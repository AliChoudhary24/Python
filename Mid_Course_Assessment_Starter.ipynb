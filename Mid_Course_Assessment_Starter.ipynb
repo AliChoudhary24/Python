{
 "cells": [
  {
   "cell_type": "code",
   "execution_count": 1,
   "id": "52ff6ab1-55d3-4052-aeb3-de42619dd1b7",
   "metadata": {},
   "outputs": [],
   "source": [
    "from cs103 import *\n",
    "from enum import Enum\n",
    "from typing import Optional"
   ]
  },
  {
   "cell_type": "markdown",
   "id": "b572b133-15d1-480b-a478-9b4dcc3f39b5",
   "metadata": {},
   "source": [
    "## Problem 1\n",
    "\n",
    "Design a data definition to represent one of the Health Authorities in British Columbia, which may be Fraser Health, Interior Health, Vancouver Coastal Health, Island Health, or Northern Health.\n",
    "\n",
    "You must follow the How to Design Data Definitions recipe."
   ]
  },
  {
   "cell_type": "code",
   "execution_count": 2,
   "id": "d07bbfc7-ee9d-4619-a5c0-a7de02bafeb2",
   "metadata": {},
   "outputs": [],
   "source": [
    "from enum import Enum\n",
    "\n",
    "HealthAuthorities = Enum('HealthAuthorities', ['fh', 'ih', 'vch', 'ish', 'nh'])\n",
    "# interp. representation of one of the following Health Authorities in British Columbia, in which \n",
    "# 'fh' stands for Fraser Health, 'ih' for Interior Health, 'vch' for Vancouver Coastal Hospital,\n",
    "# 'ish' for Island Health or 'nh' Northern Health\n",
    "# examples are redundant for enumerations\n",
    "\n",
    "# template based on one of (5 cases) and atomic distinct (5 times)\n",
    "@typecheck\n",
    "def fn_for_health_authorities(hs: HealthAuthorities) -> ...:\n",
    "    if hs == HealthAuthorities.fh:\n",
    "        return ...\n",
    "    elif hs == HealthAuthorities.ih:\n",
    "        return ...\n",
    "    elif hs == HealthAuthorities.vch:\n",
    "        return ...\n",
    "    elif hs == HealthAuthorites.ish:\n",
    "        return ...\n",
    "    elif hs == HealthAuthorities.nh:\n",
    "        return ..."
   ]
  },
  {
   "cell_type": "markdown",
   "id": "394484d0-c7ae-48b0-b033-093f723db278",
   "metadata": {},
   "source": [
    "## Problem 2\n",
    "\n",
    "Using the data definition that you designed in Problem 1, design a function that takes a health authority and determines whether Vancouver is within the boundary of the health authority.\n",
    "\n",
    "You must follow the How to Design Functions recipe."
   ]
  },
  {
   "cell_type": "code",
   "execution_count": 3,
   "id": "46e7b750-1e96-4237-8d1d-f43e05811d2f",
   "metadata": {},
   "outputs": [
    {
     "name": "stdout",
     "output_type": "stream",
     "text": [
      "\u001b[92m5 of 5 tests passed\u001b[0m\n"
     ]
    }
   ],
   "source": [
    "from cs103 import *\n",
    "@typecheck\n",
    "def in_vancouver(hs: HealthAuthorities) -> bool:\n",
    "    \"\"\"\n",
    "    returns True if hs is within the boundary of Vancouver. Otherwise, returns False.\n",
    "    \"\"\"\n",
    "    # return True # stub\n",
    "    # template based on HealthAuthorities\n",
    "    if hs == HealthAuthorities.fh:\n",
    "        return False\n",
    "    elif hs == HealthAuthorities.ih:\n",
    "        return False\n",
    "    elif hs == HealthAuthorities.vch:\n",
    "        return True\n",
    "    elif hs == HealthAuthorities.ish:\n",
    "        return False\n",
    "    elif hs == HealthAuthorities.nh:\n",
    "        return False\n",
    "    \n",
    "start_testing()\n",
    "\n",
    "expect(in_vancouver(HealthAuthorities.fh), False)\n",
    "expect(in_vancouver(HealthAuthorities.ih), False)\n",
    "expect(in_vancouver(HealthAuthorities.vch), True)\n",
    "expect(in_vancouver(HealthAuthorities.ish), False)\n",
    "expect(in_vancouver(HealthAuthorities.nh), False)\n",
    "\n",
    "summary()"
   ]
  },
  {
   "cell_type": "markdown",
   "id": "294315a6-da48-4188-be0d-05ca977bd1c4",
   "metadata": {},
   "source": [
    "## Problem 3\n",
    "\n",
    "Imagine that there is a sensor on University Boulevard that tracks the number of people who commute to UBC via bicycle every day. Sometimes, the sensor malfunctions and there is no reading for the day.\n",
    "\n",
    "Design a data definition to represent the sensor's reading, which for a particular day may be the number of people who commuted to UBC via bicycle or may be missing.\n",
    "\n",
    "You must follow the How to Design Data Definitions recipe."
   ]
  },
  {
   "cell_type": "code",
   "execution_count": 4,
   "id": "e8d8ed8d-dfdc-4e91-9ae5-825f71ace3d2",
   "metadata": {},
   "outputs": [],
   "source": [
    "from typing import Optional \n",
    "\n",
    "BicycleCommuters = Optional[int] # in range [0, ...]\n",
    "# interp. the number of bicycle commuters to University every day. Where (None) means there was no\n",
    "# reading for the day due to the sensor maulfunctioning. Each day will vary so there is no range for \n",
    "# how many bicycle commuters there are each day.\n",
    "\n",
    "BC00 = None\n",
    "BC0 = 0\n",
    "BC50 = 50\n",
    "BC100 = 100\n",
    "\n",
    "@typecheck\n",
    "# template based on one of (2 cases), atomic distinct and atomic non-distinct\n",
    "def fn_for_bicycle_commuters(bc: BicycleCommuters) -> ...:\n",
    "    if bc is None:\n",
    "        return ...\n",
    "    else:\n",
    "        return ...(bc)"
   ]
  },
  {
   "cell_type": "markdown",
   "id": "83f9d955-c21e-44a0-b989-159fe3115303",
   "metadata": {},
   "source": [
    "## Problem 4\n",
    "\n",
    "Using the data definition that you design in Problem 3, design a function that takes a BicycleCommuters and creates a description (as a string) of the data. You may choose what description to create as long as your examples are consistent with your function definition.\n",
    "\n",
    "Note that you can convert an integer to a string using the str() function. For example: str(4) returns \"4\".\n",
    "\n",
    "You must follow the How to Design Functions recipe."
   ]
  },
  {
   "cell_type": "code",
   "execution_count": 5,
   "id": "0c8fd12e-9d5d-4f52-939f-36c162b5299b",
   "metadata": {},
   "outputs": [
    {
     "name": "stdout",
     "output_type": "stream",
     "text": [
      "\u001b[92m4 of 4 tests passed\u001b[0m\n"
     ]
    }
   ],
   "source": [
    "from cs103 import *\n",
    "@typecheck\n",
    "def bicycle_commuters_description(bc: BicycleCommuters) -> str:\n",
    "    \"\"\"\n",
    "    returns a description of how many people commuted via bicycle each day to University\n",
    "    0 means there were no bicycle commuters. None means there was no reading due to the sensor\n",
    "    maulfunctioning\n",
    "    \"\"\"\n",
    "    # return \"\" # stub\n",
    "    # template based on BicycleCommuters\n",
    "    if bc is None:\n",
    "        return \"Today there was no reading due to the sensor maulfunctioning\"\n",
    "    else:\n",
    "        return \"Today there were \" + str(bc) + \" bicycle commuters\"\n",
    "\n",
    "start_testing()\n",
    "\n",
    "expect(bicycle_commuters_description(0), \"Today there were 0 bicycle commuters\")\n",
    "expect(bicycle_commuters_description(50), \"Today there were 50 bicycle commuters\")\n",
    "expect(bicycle_commuters_description(100), \"Today there were 100 bicycle commuters\")\n",
    "expect(bicycle_commuters_description(None), \"Today there was no reading due to the sensor maulfunctioning\")\n",
    "\n",
    "summary()"
   ]
  },
  {
   "cell_type": "code",
   "execution_count": null,
   "id": "2ad02886-6684-4e16-8b4b-b3fd95fc9740",
   "metadata": {},
   "outputs": [],
   "source": []
  },
  {
   "cell_type": "code",
   "execution_count": null,
   "id": "c7120d93-c018-4a26-ae10-552a55ec9646",
   "metadata": {},
   "outputs": [],
   "source": []
  }
 ],
 "metadata": {
  "kernelspec": {
   "display_name": "Python 3 (ipykernel)",
   "language": "python",
   "name": "python3"
  },
  "language_info": {
   "codemirror_mode": {
    "name": "ipython",
    "version": 3
   },
   "file_extension": ".py",
   "mimetype": "text/x-python",
   "name": "python",
   "nbconvert_exporter": "python",
   "pygments_lexer": "ipython3",
   "version": "3.10.9"
  }
 },
 "nbformat": 4,
 "nbformat_minor": 5
}
